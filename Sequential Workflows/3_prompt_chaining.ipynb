{
 "cells": [
  {
   "cell_type": "code",
   "execution_count": 1,
   "id": "ebbed3c6",
   "metadata": {},
   "outputs": [],
   "source": [
    "from langgraph.graph import StateGraph, START, END\n",
    "from typing import TypedDict\n",
    "from langchain_openai import ChatOpenAI\n",
    "from dotenv import load_dotenv"
   ]
  },
  {
   "cell_type": "code",
   "execution_count": 2,
   "id": "bf9e6047",
   "metadata": {},
   "outputs": [
    {
     "data": {
      "text/plain": [
       "True"
      ]
     },
     "execution_count": 2,
     "metadata": {},
     "output_type": "execute_result"
    }
   ],
   "source": [
    "load_dotenv()"
   ]
  },
  {
   "cell_type": "code",
   "execution_count": 3,
   "id": "4681898b",
   "metadata": {},
   "outputs": [],
   "source": [
    "model= ChatOpenAI()"
   ]
  },
  {
   "cell_type": "code",
   "execution_count": 17,
   "id": "aea4e93a",
   "metadata": {},
   "outputs": [],
   "source": [
    "class BlogState(TypedDict):\n",
    "\n",
    "    topic: str\n",
    "    outline: str\n",
    "    content: str\n",
    "    score: int"
   ]
  },
  {
   "cell_type": "code",
   "execution_count": 7,
   "id": "694ff287",
   "metadata": {},
   "outputs": [],
   "source": [
    "def create_outline(state: BlogState) -> BlogState:\n",
    "\n",
    "    topic = state['topic']\n",
    "\n",
    "    prompt = f\"Generate a detailed outline for a blog on the topic {topic}\"\n",
    "\n",
    "    outline = model.invoke(prompt)\n",
    "\n",
    "    state['outline'] = outline\n",
    "    return state"
   ]
  },
  {
   "cell_type": "code",
   "execution_count": 8,
   "id": "87f0e50e",
   "metadata": {},
   "outputs": [],
   "source": [
    "def create_blog(state: BlogState) -> BlogState:\n",
    "\n",
    "    outline = state['outline']\n",
    "\n",
    "    prompt = f\"Generate a blog from this outline {outline}\"\n",
    "\n",
    "    content = model.invoke(prompt)\n",
    "    state['content'] = content\n",
    "    return state"
   ]
  },
  {
   "cell_type": "code",
   "execution_count": 18,
   "id": "507c2ec5",
   "metadata": {},
   "outputs": [],
   "source": [
    "def score(state: BlogState) -> BlogState:\n",
    "\n",
    "    outline = state['outline']\n",
    "    content = state['content']\n",
    "\n",
    "    prompt = f\"Based on this outline {outline} evaluate my blog {content} and give a score out of 10\"\n",
    "\n",
    "    score = model.invoke(prompt)\n",
    "\n",
    "    state['score'] = score\n",
    "    return state"
   ]
  },
  {
   "cell_type": "code",
   "execution_count": 19,
   "id": "cb50fa47",
   "metadata": {},
   "outputs": [],
   "source": [
    "graph = StateGraph(BlogState)\n",
    "\n",
    "graph.add_node('create_outline', create_outline)\n",
    "graph.add_node('create_blog', create_blog)\n",
    "graph.add_node('evaluate_blog', score)\n",
    "\n",
    "graph.add_edge(START, 'create_outline')\n",
    "graph.add_edge('create_outline', 'create_blog')\n",
    "graph.add_edge('create_blog', 'evaluate_blog')\n",
    "graph.add_edge('evaluate_blog', END)\n",
    "\n",
    "workflow = graph.compile()"
   ]
  },
  {
   "cell_type": "code",
   "execution_count": 20,
   "id": "483ecb48",
   "metadata": {},
   "outputs": [
    {
     "data": {
      "image/png": "[encoded data removed]",
      "text/plain": [
       "<IPython.core.display.Image object>"
      ]
     },
     "execution_count": 20,
     "metadata": {},
     "output_type": "execute_result"
    }
   ],
   "source": [
    "# to visualize the graph\n",
    "from IPython.display import Image\n",
    "Image(workflow.get_graph().draw_mermaid_png())"
   ]
  },
  {
   "cell_type": "code",
   "execution_count": 21,
   "id": "a4bc5b8f",
   "metadata": {},
   "outputs": [],
   "source": [
    "initial_state  = {'topic': 'RAG'}\n",
    "\n",
    "final_state = workflow.invoke(initial_state)"
   ]
  },
  {
   "cell_type": "code",
   "execution_count": 22,
   "id": "0a25c4aa",
   "metadata": {},
   "outputs": [
    {
     "data": {
      "text/plain": [
       "{'topic': 'RAG',\n",
       " 'outline': AIMessage(content='I. Introduction\\n   A. Explanation of RAG and its significance in project management\\n   B. Overview of what will be covered in the blog\\n\\nII. What is RAG?\\n   A. Definition of RAG (Red, Amber, Green) status\\n   B. How is RAG used in project management?\\n   C. Examples of when RAG status might be used in projects\\n\\nIII. Benefits of using RAG\\n   A. Helps to easily identify projects that are on track and those that need attention\\n   B. Provides a quick visual representation of project progress\\n   C. Allows for quick decision making and resource allocation\\n\\nIV. How to determine RAG status\\n   A. Criteria for assigning RAG status\\n   B. Who is responsible for determining RAG status?\\n   C. How often should RAG status be updated?\\n\\nV. Common challenges with using RAG\\n   A. Misinterpretation of RAG status\\n   B. Lack of consistency in assigning RAG status\\n   C. Over-reliance on RAG status as the sole indicator of project success\\n\\nVI. Tips for effectively using RAG\\n   A. Communicate clearly with stakeholders about RAG status\\n   B. Regularly review and update RAG status\\n   C. Use RAG status as a tool for discussion and decision making, not as a definitive measure of project success\\n\\nVII. Case studies/examples of RAG in action\\n   A. Real-world examples of how RAG status has been used in project management\\n   B. Success stories of projects that benefited from using RAG status effectively\\n\\nVIII. Conclusion\\n   A. Recap of key points covered in the blog\\n   B. Emphasis on the importance of using RAG in project management\\n   C. Encouragement for readers to incorporate RAG into their project management practices', additional_kwargs={'refusal': None}, response_metadata={'token_usage': {'completion_tokens': 380, 'prompt_tokens': 19, 'total_tokens': 399, 'completion_tokens_details': {'accepted_prediction_tokens': 0, 'audio_tokens': 0, 'reasoning_tokens': 0, 'rejected_prediction_tokens': 0}, 'prompt_tokens_details': {'audio_tokens': 0, 'cached_tokens': 0}}, 'model_provider': 'openai', 'model_name': 'gpt-3.5-turbo-0125', 'system_fingerprint': None, 'id': 'chatcmpl-CTVVpTUGKBGc6ONAZtOqvhmdWYqI7', 'service_tier': 'default', 'finish_reason': 'stop', 'logprobs': None}, id='lc_run--e349de7d-a00d-45fa-adde-f775ec963217-0', usage_metadata={'input_tokens': 19, 'output_tokens': 380, 'total_tokens': 399, 'input_token_details': {'audio': 0, 'cache_read': 0}, 'output_token_details': {'audio': 0, 'reasoning': 0}}),\n",
       " 'content': AIMessage(content='Title: The Role of RAG Status in Project Management\\n\\nI. Introduction\\nA. Explanation of RAG and its significance in project management\\nB. Overview of what will be covered in the blog\\n\\nIn project management, keeping track of the progress of various tasks and projects is crucial for success. One common tool used for this purpose is RAG status, which stands for Red, Amber, Green. In this blog, we will explore what RAG status is, how it is used in project management, its benefits, how to determine RAG status, common challenges, tips for effectively using RAG, and case studies/examples of RAG in action.\\n\\nII. What is RAG?\\nA. Definition of RAG (Red, Amber, Green) status\\nB. How is RAG used in project management?\\nC. Examples of when RAG status might be used in projects\\n\\nRAG status is a simple yet powerful tool used in project management to indicate the status of various tasks or projects. Red indicates that a task or project is off track, Amber signifies that it is at risk, and Green means that it is on track. This status helps project managers and stakeholders quickly identify areas that need attention and make informed decisions.\\n\\nIII. Benefits of using RAG\\nA. Helps to easily identify projects that are on track and those that need attention\\nB. Provides a quick visual representation of project progress\\nC. Allows for quick decision making and resource allocation\\n\\nThe use of RAG status provides several benefits in project management. It helps project managers easily identify which projects are on track and which ones need attention. It also provides a visual representation of project progress, allowing for quick decision-making and resource allocation.\\n\\nIV. How to determine RAG status\\nA. Criteria for assigning RAG status\\nB. Who is responsible for determining RAG status?\\nC. How often should RAG status be updated?\\n\\nDetermining RAG status involves establishing criteria for assigning the status, determining who is responsible for making these assessments, and deciding how frequently RAG status should be updated. This process ensures that the status accurately reflects the current state of the project.\\n\\nV. Common challenges with using RAG\\nA. Misinterpretation of RAG status\\nB. Lack of consistency in assigning RAG status\\nC. Over-reliance on RAG status as the sole indicator of project success\\n\\nWhile RAG status can be a valuable tool, there are common challenges associated with its use. These include misinterpretation of the status, lack of consistency in assigning it, and over-reliance on RAG as the sole indicator of project success.\\n\\nVI. Tips for effectively using RAG\\nA. Communicate clearly with stakeholders about RAG status\\nB. Regularly review and update RAG status\\nC. Use RAG status as a tool for discussion and decision making, not as a definitive measure of project success\\n\\nTo effectively use RAG status, it is important to communicate clearly with stakeholders, regularly review and update the status, and use it as a tool for discussion and decision-making rather than a definitive measure of project success.\\n\\nVII. Case studies/examples of RAG in action\\nA. Real-world examples of how RAG status has been used in project management\\nB. Success stories of projects that benefited from using RAG status effectively\\n\\nExamining real-world case studies and examples of RAG status in action can provide insight into its effectiveness in project management. Success stories demonstrate the benefits of using RAG status effectively.\\n\\nVIII. Conclusion\\nA. Recap of key points covered in the blog\\nB. Emphasis on the importance of using RAG in project management\\nC. Encouragement for readers to incorporate RAG into their project management practices\\n\\nIn conclusion, RAG status is a valuable tool in project management that helps project managers and stakeholders track progress, make informed decisions, and allocate resources effectively. By understanding how to use RAG status effectively, project teams can improve their project outcomes and achieve greater success.', additional_kwargs={'refusal': None}, response_metadata={'token_usage': {'completion_tokens': 811, 'prompt_tokens': 667, 'total_tokens': 1478, 'completion_tokens_details': {'accepted_prediction_tokens': 0, 'audio_tokens': 0, 'reasoning_tokens': 0, 'rejected_prediction_tokens': 0}, 'prompt_tokens_details': {'audio_tokens': 0, 'cached_tokens': 0}}, 'model_provider': 'openai', 'model_name': 'gpt-3.5-turbo-0125', 'system_fingerprint': None, 'id': 'chatcmpl-CTVVtDdVXzrA4vPlr3hqgzZAzQ07d', 'service_tier': 'default', 'finish_reason': 'stop', 'logprobs': None}, id='lc_run--3c5c1239-f800-48d0-ac26-71ae3c4a473f-0', usage_metadata={'input_tokens': 667, 'output_tokens': 811, 'total_tokens': 1478, 'input_token_details': {'audio': 0, 'cache_read': 0}, 'output_token_details': {'audio': 0, 'reasoning': 0}}),\n",
       " 'score': AIMessage(content='I would give your blog content a score of 9 out of 10. The content is well-structured, covers all the important aspects of RAG status in project management, and provides a comprehensive overview of its definition, benefits, challenges, tips for effective usage, and case studies. The language used is clear and concise, making it easy to understand for readers. Overall, it effectively conveys the significance of RAG status in project management. Great job!', additional_kwargs={'refusal': None}, response_metadata={'token_usage': {'completion_tokens': 93, 'prompt_tokens': 1784, 'total_tokens': 1877, 'completion_tokens_details': {'accepted_prediction_tokens': 0, 'audio_tokens': 0, 'reasoning_tokens': 0, 'rejected_prediction_tokens': 0}, 'prompt_tokens_details': {'audio_tokens': 0, 'cached_tokens': 0}}, 'model_provider': 'openai', 'model_name': 'gpt-3.5-turbo-0125', 'system_fingerprint': None, 'id': 'chatcmpl-CTVW4nquehtr6M3HOEkHvgTm63sQ1', 'service_tier': 'default', 'finish_reason': 'stop', 'logprobs': None}, id='lc_run--9bb0e45c-737d-4a9d-a29d-3532b7bb95f8-0', usage_metadata={'input_tokens': 1784, 'output_tokens': 93, 'total_tokens': 1877, 'input_token_details': {'audio': 0, 'cache_read': 0}, 'output_token_details': {'audio': 0, 'reasoning': 0}})}"
      ]
     },
     "execution_count": 22,
     "metadata": {},
     "output_type": "execute_result"
    }
   ],
   "source": [
    "final_state"
   ]
  },
  {
   "cell_type": "code",
   "execution_count": null,
   "id": "a3ac9bf9",
   "metadata": {},
   "outputs": [],
   "source": []
  }
 ],
 "metadata": {
  "kernelspec": {
   "display_name": "venv",
   "language": "python",
   "name": "python3"
  },
  "language_info": {
   "codemirror_mode": {
    "name": "ipython",
    "version": 3
   },
   "file_extension": ".py",
   "mimetype": "text/x-python",
   "name": "python",
   "nbconvert_exporter": "python",
   "pygments_lexer": "ipython3",
   "version": "3.12.1"
  }
 },
 "nbformat": 4,
 "nbformat_minor": 5
}
