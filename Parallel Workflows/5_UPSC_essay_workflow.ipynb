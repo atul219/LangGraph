{
 "cells": [
  {
   "cell_type": "code",
   "execution_count": 1,
   "id": "c9dce3c8",
   "metadata": {},
   "outputs": [],
   "source": [
    "from langgraph.graph import StateGraph, START, END\n",
    "from langchain_openai import ChatOpenAI\n",
    "from dotenv import load_dotenv\n",
    "from typing import TypedDict, Annotated\n",
    "from pydantic import BaseModel, Field\n",
    "import operator"
   ]
  },
  {
   "cell_type": "code",
   "execution_count": 2,
   "id": "41fff8e0",
   "metadata": {},
   "outputs": [
    {
     "data": {
      "text/plain": [
       "True"
      ]
     },
     "execution_count": 2,
     "metadata": {},
     "output_type": "execute_result"
    }
   ],
   "source": [
    "load_dotenv()"
   ]
  },
  {
   "cell_type": "code",
   "execution_count": 3,
   "id": "fbe0a0bc",
   "metadata": {},
   "outputs": [],
   "source": [
    "model = ChatOpenAI(model='gpt-4o-mini')"
   ]
  },
  {
   "cell_type": "code",
   "execution_count": 4,
   "id": "f038ee5d",
   "metadata": {},
   "outputs": [],
   "source": [
    "class EvaluationSchema(BaseModel):\n",
    "\n",
    "    feedback: str = Field(description='Detailed feedbackfor the essay')\n",
    "    score: int = Field(description='Score out of 10', ge=0, le=10)"
   ]
  },
  {
   "cell_type": "code",
   "execution_count": 5,
   "id": "d7164081",
   "metadata": {},
   "outputs": [],
   "source": [
    "structured_model = model.with_structured_output(EvaluationSchema)"
   ]
  },
  {
   "cell_type": "code",
   "execution_count": 6,
   "id": "f0fc6cde",
   "metadata": {},
   "outputs": [],
   "source": [
    "essay = \"\"\"India in the Age of AI\n",
    "As the world enters a transformative era defined by artificial intelligence (AI), India stands at a critical juncture — one where it can either emerge as a global leader in AI innovation or risk falling behind in the technology race. The age of AI brings with it immense promise as well as unprecedented challenges, and how India navigates this landscape will shape its socio-economic and geopolitical future.\n",
    "\n",
    "India's strengths in the AI domain are rooted in its vast pool of skilled engineers, a thriving IT industry, and a growing startup ecosystem. With over 5 million STEM graduates annually and a burgeoning base of AI researchers, India possesses the intellectual capital required to build cutting-edge AI systems. Institutions like IITs, IIITs, and IISc have begun fostering AI research, while private players such as TCS, Infosys, and Wipro are integrating AI into their global services. In 2020, the government launched the National AI Strategy (AI for All) with a focus on inclusive growth, aiming to leverage AI in healthcare, agriculture, education, and smart mobility.\n",
    "\n",
    "One of the most promising applications of AI in India lies in agriculture, where predictive analytics can guide farmers on optimal sowing times, weather forecasts, and pest control. In healthcare, AI-powered diagnostics can help address India’s doctor-patient ratio crisis, particularly in rural areas. Educational platforms are increasingly using AI to personalize learning paths, while smart governance tools are helping improve public service delivery and fraud detection.\n",
    "\n",
    "However, the path to AI-led growth is riddled with challenges. Chief among them is the digital divide. While metropolitan cities may embrace AI-driven solutions, rural India continues to struggle with basic internet access and digital literacy. The risk of job displacement due to automation also looms large, especially for low-skilled workers. Without effective skilling and re-skilling programs, AI could exacerbate existing socio-economic inequalities.\n",
    "\n",
    "Another pressing concern is data privacy and ethics. As AI systems rely heavily on vast datasets, ensuring that personal data is used transparently and responsibly becomes vital. India is still shaping its data protection laws, and in the absence of a strong regulatory framework, AI systems may risk misuse or bias.\n",
    "\n",
    "To harness AI responsibly, India must adopt a multi-stakeholder approach involving the government, academia, industry, and civil society. Policies should promote open datasets, encourage responsible innovation, and ensure ethical AI practices. There is also a need for international collaboration, particularly with countries leading in AI research, to gain strategic advantage and ensure interoperability in global systems.\n",
    "\n",
    "India’s demographic dividend, when paired with responsible AI adoption, can unlock massive economic growth, improve governance, and uplift marginalized communities. But this vision will only materialize if AI is seen not merely as a tool for automation, but as an enabler of human-centered development.\n",
    "\n",
    "In conclusion, India in the age of AI is a story in the making — one of opportunity, responsibility, and transformation. The decisions we make today will not just determine India’s AI trajectory, but also its future as an inclusive, equitable, and innovation-driven society.\"\"\""
   ]
  },
  {
   "cell_type": "code",
   "execution_count": 7,
   "id": "8bfde280",
   "metadata": {},
   "outputs": [
    {
     "data": {
      "text/plain": [
       "\"The essay on India in the Age of AI exhibits a strong command of language, coherence, and depth of analysis. The introduction successfully sets the stage for the discussion, clearly identifying both the opportunities and challenges associated with AI in India. Each paragraph logically progresses from the previous one, maintaining a structured flow throughout the essay. \\n\\nStrengths:\\n- Clear and articulate language, making complex ideas accessible to a broad audience.\\n- Comprehensive coverage of AI's impact on various sectors in India, providing concrete examples (agriculture, healthcare, education).\\n- Balanced view of both opportunities and challenges, showcasing critical thinking.\\n- Use of relevant data (like the number of STEM graduates) adds credibility to the claims made.\\n\\nAreas for Improvement:\\n- While the essay discusses challenges, it could elaborate further on potential solutions or specific policies that could be implemented to address the digital divide and data privacy issues.\\n- Inclusion of a more diverse range of perspectives, possibly from industry leaders or academic experts, could enrich the analysis.\\n- The conclusion, although strong, might benefit from a more powerful call to action or a vision statement about the future landscape of AI in India.\\n\\nOverall, the essay presents a thoughtful analysis of a critical issue, effectively engaging the reader with its content and language quality. \\n\\nScore: 8/10\""
      ]
     },
     "execution_count": 7,
     "metadata": {},
     "output_type": "execute_result"
    }
   ],
   "source": [
    "prompt = f'Evaluate the language quality of the following essay and provide a feedback and assign a score out of 10 \\n {essay}'\n",
    "structured_model.invoke(prompt).feedback"
   ]
  },
  {
   "cell_type": "code",
   "execution_count": 8,
   "id": "83b68f26",
   "metadata": {},
   "outputs": [],
   "source": [
    "class UPSCState(TypedDict):\n",
    "\n",
    "    essay: str\n",
    "    language_feedback: str\n",
    "    analysis_feedback: str\n",
    "    clarity_feedback: str\n",
    "    overall_feedback: str\n",
    "    individual_scores: Annotated[list[int], operator.add]\n",
    "    avg_score : float"
   ]
  },
  {
   "cell_type": "code",
   "execution_count": 9,
   "id": "fab2f89c",
   "metadata": {},
   "outputs": [],
   "source": [
    "def evaluate_language(state: UPSCState):\n",
    "    \n",
    "    prompt = f'Evaluate the language quality of the following essay and provide a feedback and assign a score out of 10 \\n {state[\"essay\"]}'\n",
    "    output = structured_model.invoke(prompt)\n",
    "\n",
    "    return {'language_feedback': output.feedback, 'individual_scores': [output.score]}\n"
   ]
  },
  {
   "cell_type": "code",
   "execution_count": 10,
   "id": "4b4c3dff",
   "metadata": {},
   "outputs": [],
   "source": [
    "def evaluate_analysis(state: UPSCState):\n",
    "    prompt = f'Evaluate the language quality of the following essay and provide a feedback and assign a score out of 10 \\n {state[\"essay\"]}'\n",
    "    output = structured_model.invoke(prompt)\n",
    "\n",
    "    return {'analysis_feedback': output.feedback, 'individual_scores': [output.score]}\n"
   ]
  },
  {
   "cell_type": "code",
   "execution_count": 11,
   "id": "ae2d5014",
   "metadata": {},
   "outputs": [],
   "source": [
    "def evaluate_clarity(state: UPSCState):\n",
    "    prompt = f'Evaluate the language quality of the following essay and provide a feedback and assign a score out of 10 \\n {state[\"essay\"]}'\n",
    "    output = structured_model.invoke(prompt)\n",
    "\n",
    "    return {'clarity_feedback': output.feedback, 'individual_scores': [output.score]}"
   ]
  },
  {
   "cell_type": "code",
   "execution_count": 12,
   "id": "53b20d2b",
   "metadata": {},
   "outputs": [],
   "source": [
    "def final_evaluation(state: UPSCState):\n",
    "\n",
    "    # summary feedback\n",
    "    prompt = f'Based on the following feedbacks create a summarized feedback \\n language feedback - {state[\"language_feedback\"]} \\n depth of analysis feedback - {state[\"analysis_feedback\"]} \\n clarity of thought feedback - {state[\"clarity_feedback\"]}'\n",
    "    overall_feedback = model.invoke(prompt).content\n",
    "\n",
    "    # avg calculate\n",
    "    avg_score = sum(state['individual_scores'])/len(state['individual_scores'])\n",
    "\n",
    "    return {'overall_feedback': overall_feedback, 'avg_score': avg_score}"
   ]
  },
  {
   "cell_type": "code",
   "execution_count": 13,
   "id": "84cff2ba",
   "metadata": {},
   "outputs": [
    {
     "data": {
      "text/plain": [
       "<langgraph.graph.state.StateGraph at 0x78aabc14f9e0>"
      ]
     },
     "execution_count": 13,
     "metadata": {},
     "output_type": "execute_result"
    }
   ],
   "source": [
    "graph = StateGraph(UPSCState)\n",
    "\n",
    "graph.add_node('evaluate_language', evaluate_language)\n",
    "graph.add_node('evaluate_analysis', evaluate_analysis)\n",
    "graph.add_node('evaluate_clarity', evaluate_clarity)\n",
    "graph.add_node('final_evaluation', final_evaluation)\n",
    "\n",
    "\n",
    "graph.add_edge(START, 'evaluate_language')\n",
    "graph.add_edge(START, 'evaluate_analysis')\n",
    "graph.add_edge(START, 'evaluate_clarity')\n",
    "\n",
    "graph.add_edge('evaluate_language', 'final_evaluation')\n",
    "graph.add_edge('evaluate_analysis', 'final_evaluation')\n",
    "graph.add_edge('evaluate_clarity', 'final_evaluation')\n",
    "\n",
    "graph.add_edge('final_evaluation', END)"
   ]
  },
  {
   "cell_type": "code",
   "execution_count": 14,
   "id": "a1b94d25",
   "metadata": {},
   "outputs": [],
   "source": [
    "workflow = graph.compile()"
   ]
  },
  {
   "cell_type": "code",
   "execution_count": 15,
   "id": "0e833652",
   "metadata": {},
   "outputs": [
    {
     "data": {
      "image/png": "[encoded data removed]",
      "text/plain": [
       "<IPython.core.display.Image object>"
      ]
     },
     "execution_count": 15,
     "metadata": {},
     "output_type": "execute_result"
    }
   ],
   "source": [
    "# to visualize the graph\n",
    "from IPython.display import Image\n",
    "Image(workflow.get_graph().draw_mermaid_png())"
   ]
  },
  {
   "cell_type": "code",
   "execution_count": 16,
   "id": "faeb7070",
   "metadata": {},
   "outputs": [],
   "source": [
    "essay2 = \"\"\"India and AI Time\n",
    "\n",
    "Now world change very fast because new tech call Artificial Intel… something (AI). India also want become big in this AI thing. If work hard, India can go top. But if no careful, India go back.\n",
    "\n",
    "India have many good. We have smart student, many engine-ear, and good IT peoples. Big company like TCS, Infosys, Wipro already use AI. Government also do program “AI for All”. It want AI in farm, doctor place, school and transport.\n",
    "\n",
    "In farm, AI help farmer know when to put seed, when rain come, how stop bug. In health, AI help doctor see sick early. In school, AI help student learn good. Government office use AI to find bad people and work fast.\n",
    "\n",
    "But problem come also. First is many villager no have phone or internet. So AI not help them. Second, many people lose job because AI and machine do work. Poor people get more bad.\n",
    "\n",
    "One more big problem is privacy. AI need big big data. Who take care? India still make data rule. If no strong rule, AI do bad.\n",
    "\n",
    "India must all people together – govern, school, company and normal people. We teach AI and make sure AI not bad. Also talk to other country and learn from them.\n",
    "\n",
    "If India use AI good way, we become strong, help poor and make better life. But if only rich use AI, and poor no get, then big bad thing happen.\n",
    "\n",
    "So, in short, AI time in India have many hope and many danger. We must go right road. AI must help all people, not only some. Then India grow big and world say \"good job India\".\"\"\""
   ]
  },
  {
   "cell_type": "code",
   "execution_count": 17,
   "id": "f9184b34",
   "metadata": {},
   "outputs": [
    {
     "data": {
      "text/plain": [
       "{'essay': 'India and AI Time\\n\\nNow world change very fast because new tech call Artificial Intel… something (AI). India also want become big in this AI thing. If work hard, India can go top. But if no careful, India go back.\\n\\nIndia have many good. We have smart student, many engine-ear, and good IT peoples. Big company like TCS, Infosys, Wipro already use AI. Government also do program “AI for All”. It want AI in farm, doctor place, school and transport.\\n\\nIn farm, AI help farmer know when to put seed, when rain come, how stop bug. In health, AI help doctor see sick early. In school, AI help student learn good. Government office use AI to find bad people and work fast.\\n\\nBut problem come also. First is many villager no have phone or internet. So AI not help them. Second, many people lose job because AI and machine do work. Poor people get more bad.\\n\\nOne more big problem is privacy. AI need big big data. Who take care? India still make data rule. If no strong rule, AI do bad.\\n\\nIndia must all people together – govern, school, company and normal people. We teach AI and make sure AI not bad. Also talk to other country and learn from them.\\n\\nIf India use AI good way, we become strong, help poor and make better life. But if only rich use AI, and poor no get, then big bad thing happen.\\n\\nSo, in short, AI time in India have many hope and many danger. We must go right road. AI must help all people, not only some. Then India grow big and world say \"good job India\".',\n",
       " 'language_feedback': 'The essay presents a clear perspective on the importance of artificial intelligence (AI) in India and highlights both the opportunities and challenges associated with its adoption. However, the language quality needs significant improvement. Here are some detailed points for consideration:\\n\\n1. **Grammar and Sentence Structure**: The essay contains numerous grammatical errors and awkward phrases, such as \"Now world change very fast\" (should be \"The world is changing very fast\") and \"many good\" (should be \"many advantages\"). Sentence structures are often incomplete or non-standard, affecting readability.\\n\\n2. **Vocabulary**: The use of vocabulary is simplistic and repetitive. Words like \"AI\" are introduced without a proper definition or context, and terms like \"big, big data\" undermine the seriousness of the topic. More varied and sophisticated vocabulary would enhance the essay\\'s credibility.\\n\\n3. **Cohesiveness**: While the main ideas are identifiable, the transitions between them sometimes feel disjointed. For example, the move from discussing benefits to challenges could be smoother to improve flow.\\n\\n4. **Clarity and Precision**: Some points are vague or underdeveloped (e.g., how privacy issues will impact citizens). Providing concrete examples or statistics could strengthen the arguments.\\n\\n5. **Conclusion**: The conclusion summarizes the main message but could benefit from a stronger, more decisive statement regarding the future of AI in India.\\n\\nGenerally, the essay communicates an essential message but lacks the polish necessary for a formal or academic piece. Improving grammatical accuracy, enriching vocabulary, and enhancing cohesiveness will strengthen future writing efforts.',\n",
       " 'analysis_feedback': 'The essay presents a relevant perspective on the implications of AI in India, outlining both the potential benefits and the challenges that accompany its adoption. However, the language quality is significantly undermined by grammar, syntax, and clarity issues. Here are some points that can be improved:\\n\\n1. **Grammar and Syntax:** There are several grammatical errors throughout the essay, such as \"new tech call Artificial Intel… something (AI)\" which should be \"new technology called Artificial Intelligence (AI).\" The construction of sentences is often awkward (e.g., \"India have many good,\" should be \"India has many advantages\"), indicating a need for better sentence structure.\\n\\n2. **Clarity and Cohesion:** The essay lacks coherence in some parts. The ideas are presented in a somewhat disjointed manner, which can confuse the reader. For example, the transition from discussing AI benefits to the problems it poses could be improved with clearer linking phrases. \\n\\n3. **Vocabulary:** The vocabulary is quite basic and could be diversified to enhance the essay\\'s academic tone. For instance, instead of \"big\" or \"good,\" using terms like \"significant\" or \"beneficial\" would elevate the language.\\n\\n4. **Punctuation and Formatting:** There are several instances of missing punctuation. For example, \"AI need big big data\" should include a comma. More sophisticated punctuation could also help the flow of ideas.\\n\\n5. **Inconsistencies and Typos:** There are typographical errors (like \"engine-ear\" instead of \"engineers\") and inconsistencies that should be addressed for a more polished final product.\\n\\nOverall, the essay has a solid foundation with important ideas about AI in India, but it requires substantial revisions to improve language quality, grammar, and clarity. A potential score for this essay would be **3 out of 10.**',\n",
       " 'clarity_feedback': 'The essay presents an interesting perspective on the potential of Artificial Intelligence (AI) in India and addresses both opportunities and challenges associated with its adoption. However, several areas need improvement in terms of language quality, coherence, grammar, and overall clarity. \\n\\n1. **Grammar and Syntax**: The essay contains numerous grammatical errors and awkward phrasing (e.g., \"Now world change very fast\", \"want become big in this AI thing\"). These issues hinder understanding and detract from the overall professionalism of the writing. \\n\\n2. **Word Choice**: The use of informal language and incomplete phrases (e.g., \"AI something\") is inappropriate for an academic essay. Refining vocabulary and ensuring precise language would enhance the clarity and impact. \\n\\n3. **Structure and Coherence**: While the essay has a clear structure with distinct sections addressing different aspects of AI, transitions between ideas need improvement. Some sentences feel abrupt, and the flow could be more cohesive. \\n\\n4. **Content and Argumentation**: The points made regarding the benefits and drawbacks of AI are valid; however, they could be better developed with specific examples and a deeper analysis. For instance, more details on government programs or statistics related to AI impact would strengthen arguments. \\n\\n5. **Conclusion**: The concluding remarks are somewhat vague and would benefit from a more definitive summary of the main arguments presented.\\n\\nOverall, while the essay introduces important ideas about the role of AI in India, the language quality is a significant barrier to effective communication. With better grammar, vocabulary, and structure, this essay could convey its message more powerfully. \\n\\nGiven these observations, I would assign a score of 4 out of 10 for this essay.',\n",
       " 'overall_feedback': '**Summarized Feedback:**\\n\\nThe essay explores the potential of Artificial Intelligence (AI) in India, discussing both opportunities and challenges. While it presents a relevant perspective, significant improvements are needed in language quality, coherence, and depth of analysis.\\n\\n1. **Grammar and Syntax**: The essay is marred by numerous grammatical errors and awkward phrasing, which hinder readability. Examples include incorrect verb agreements and incomplete sentences.\\n\\n2. **Vocabulary**: The language is overly simplistic and informal, with repetitive word choices. Terms like \"big\" and \"good\" dilute the essay\\'s academic tone; more sophisticated vocabulary is needed for professionalism.\\n\\n3. **Cohesion and Structure**: Although the essay has a clear structure, transitions between ideas are abrupt and disjointed. The flow could be improved with clearer linking phrases and a more cohesive organization of thoughts.\\n\\n4. **Content and Argumentation**: While the mention of AI\\'s benefits and challenges is valid, arguments lack depth. Including specific examples or statistics would enhance the analysis and provide stronger support for claims.\\n\\n5. **Conclusion**: The conclusion summarizes key points but lacks decisiveness; a stronger, more clear final statement would benefit the overall message.\\n\\nOverall, the essay has a solid foundation but requires substantial revisions for grammatical accuracy, vocabulary sophistication, coherence, and clarity. Given these issues, the essay is currently rated **3-4 out of 10**. Improving these aspects will significantly enhance its effectiveness and communication.',\n",
       " 'individual_scores': [3, 4, 4],\n",
       " 'avg_score': 3.6666666666666665}"
      ]
     },
     "execution_count": 17,
     "metadata": {},
     "output_type": "execute_result"
    }
   ],
   "source": [
    "initial_state = {\n",
    "    'essay': essay2\n",
    "}\n",
    "\n",
    "workflow.invoke(initial_state)"
   ]
  },
  {
   "cell_type": "code",
   "execution_count": null,
   "id": "dac4ca0d",
   "metadata": {},
   "outputs": [],
   "source": []
  }
 ],
 "metadata": {
  "kernelspec": {
   "display_name": "venv",
   "language": "python",
   "name": "python3"
  },
  "language_info": {
   "codemirror_mode": {
    "name": "ipython",
    "version": 3
   },
   "file_extension": ".py",
   "mimetype": "text/x-python",
   "name": "python",
   "nbconvert_exporter": "python",
   "pygments_lexer": "ipython3",
   "version": "3.12.1"
  }
 },
 "nbformat": 4,
 "nbformat_minor": 5
}
