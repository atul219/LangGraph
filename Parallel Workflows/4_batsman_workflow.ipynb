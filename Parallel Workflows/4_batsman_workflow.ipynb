{
 "cells": [
  {
   "cell_type": "code",
   "execution_count": 1,
   "id": "4abe6e22",
   "metadata": {},
   "outputs": [],
   "source": [
    "from langgraph.graph import StateGraph, START, END\n",
    "from typing import TypedDict"
   ]
  },
  {
   "cell_type": "code",
   "execution_count": 2,
   "id": "2598671f",
   "metadata": {},
   "outputs": [],
   "source": [
    "class BatsmanState(TypedDict):\n",
    "\n",
    "    runs: int\n",
    "    balls: int\n",
    "    fours: int\n",
    "    sixes: int\n",
    "\n",
    "    sr: float\n",
    "    bpb: float\n",
    "    boundary_percent: float\n",
    "    summary: str"
   ]
  },
  {
   "cell_type": "code",
   "execution_count": 12,
   "id": "419436e8",
   "metadata": {},
   "outputs": [],
   "source": [
    "def calculate_sr(state: BatsmanState) -> BatsmanState:\n",
    "\n",
    "    sr = (state['runs']/state['balls'])*100\n",
    "    return {'sr': sr}"
   ]
  },
  {
   "cell_type": "code",
   "execution_count": 13,
   "id": "41460c8f",
   "metadata": {},
   "outputs": [],
   "source": [
    "def calculate_bpb(state: BatsmanState) -> BatsmanState:\n",
    "\n",
    "    bpb = state['balls']/(state['fours'] + state['sixes'])\n",
    "\n",
    "    return {'bpb': bpb}"
   ]
  },
  {
   "cell_type": "code",
   "execution_count": 14,
   "id": "9280060d",
   "metadata": {},
   "outputs": [],
   "source": [
    "def calculate_boundary_percent(state: BatsmanState):\n",
    "\n",
    "    boundary_percent = (((state['fours'] * 4) + (state['sixes'] * 6))/state['runs'])*100\n",
    "\n",
    "    return {'boundary_percent': boundary_percent}"
   ]
  },
  {
   "cell_type": "code",
   "execution_count": 15,
   "id": "ca604723",
   "metadata": {},
   "outputs": [],
   "source": [
    "def summary(state: BatsmanState):\n",
    "\n",
    "    summary = f\"\"\"\n",
    "        Strike Rate - {state['sr']} \\n\n",
    "        Balls per boundary - {state['bpb']} \\n\n",
    "        Boundary percent - {state['boundary_percent']}\n",
    "        \"\"\"\n",
    "    \n",
    "    return {'summary': summary}"
   ]
  },
  {
   "cell_type": "code",
   "execution_count": 16,
   "id": "b22931a2",
   "metadata": {},
   "outputs": [
    {
     "data": {
      "text/plain": [
       "<langgraph.graph.state.StateGraph at 0x7874921850d0>"
      ]
     },
     "execution_count": 16,
     "metadata": {},
     "output_type": "execute_result"
    }
   ],
   "source": [
    "graph = StateGraph(BatsmanState)\n",
    "\n",
    "\n",
    "graph.add_node('calculate_strike_rate', calculate_sr)\n",
    "graph.add_node('calculate_balls_per_boundary', calculate_bpb)\n",
    "graph.add_node('calculate_boundary_percent', calculate_boundary_percent)\n",
    "graph.add_node('summary', summary)\n",
    "\n",
    "\n",
    "graph.add_edge(START, 'calculate_strike_rate')\n",
    "graph.add_edge(START, 'calculate_balls_per_boundary')\n",
    "graph.add_edge(START, 'calculate_boundary_percent')\n",
    "\n",
    "graph.add_edge('calculate_strike_rate','summary')\n",
    "graph.add_edge('calculate_balls_per_boundary','summary')\n",
    "graph.add_edge('calculate_boundary_percent','summary')\n",
    "\n",
    "graph.add_edge('summary', END)\n",
    "\n",
    "\n"
   ]
  },
  {
   "cell_type": "code",
   "execution_count": 17,
   "id": "eef5c5a4",
   "metadata": {},
   "outputs": [],
   "source": [
    "workflow = graph.compile()"
   ]
  },
  {
   "cell_type": "code",
   "execution_count": 18,
   "id": "76ca668c",
   "metadata": {},
   "outputs": [
    {
     "data": {
      "image/png": "[encoded data removed]",
      "text/plain": [
       "<IPython.core.display.Image object>"
      ]
     },
     "execution_count": 18,
     "metadata": {},
     "output_type": "execute_result"
    }
   ],
   "source": [
    "# to visualize the graph\n",
    "from IPython.display import Image\n",
    "Image(workflow.get_graph().draw_mermaid_png())"
   ]
  },
  {
   "cell_type": "code",
   "execution_count": 21,
   "id": "5a9a8320",
   "metadata": {},
   "outputs": [],
   "source": [
    "initial_state = {'runs': 87, 'balls': 73, 'fours': 10, 'sixes': 3}"
   ]
  },
  {
   "cell_type": "code",
   "execution_count": 22,
   "id": "9de7e807",
   "metadata": {},
   "outputs": [],
   "source": [
    "final_state = workflow.invoke(initial_state)"
   ]
  },
  {
   "cell_type": "code",
   "execution_count": 23,
   "id": "ec370710",
   "metadata": {},
   "outputs": [
    {
     "data": {
      "text/plain": [
       "{'runs': 87,\n",
       " 'balls': 73,\n",
       " 'fours': 10,\n",
       " 'sixes': 3,\n",
       " 'sr': 119.17808219178083,\n",
       " 'bpb': 5.615384615384615,\n",
       " 'boundary_percent': 66.66666666666666,\n",
       " 'summary': '\\n        Strike Rate - 119.17808219178083 \\n\\n        Balls per boundary - 5.615384615384615 \\n\\n        Boundary percent - 66.66666666666666\\n        '}"
      ]
     },
     "execution_count": 23,
     "metadata": {},
     "output_type": "execute_result"
    }
   ],
   "source": [
    "final_state"
   ]
  },
  {
   "cell_type": "code",
   "execution_count": null,
   "id": "f790f69d",
   "metadata": {},
   "outputs": [],
   "source": []
  }
 ],
 "metadata": {
  "kernelspec": {
   "display_name": "venv",
   "language": "python",
   "name": "python3"
  },
  "language_info": {
   "codemirror_mode": {
    "name": "ipython",
    "version": 3
   },
   "file_extension": ".py",
   "mimetype": "text/x-python",
   "name": "python",
   "nbconvert_exporter": "python",
   "pygments_lexer": "ipython3",
   "version": "3.12.1"
  }
 },
 "nbformat": 4,
 "nbformat_minor": 5
}
